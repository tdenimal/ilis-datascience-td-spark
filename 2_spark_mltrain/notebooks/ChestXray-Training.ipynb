{
 "cells": [
  {
   "cell_type": "markdown",
   "metadata": {},
   "source": [
    "# Notebook to train a model to diagnose thoracic pathology from chest X-rays"
   ]
  },
  {
   "cell_type": "markdown",
   "metadata": {},
   "source": [
    "The purpose of this Jupyter notebook is to demonstrate how we can build a AI-based Radiologist system using Apache Spark and Analytics Zoo to detect pneumonia and other diseases from chest x-ray images. The X-rays are made available by the United States’ National Institutes of Health (NIH). The dataset contains over 120,000 images of frontal chest x-rays, each potentially labeled with one or more of fourteen different thoracic pathologies. We show how to build a multi-label image classification model in a distributed Apache Spark infrastructure, and demonstrate how to build complex image transformations and deep learning pipelines using Analytics Zoo with scalability and ease of use.\n",
    "\n",
    "For instructions on prerequisites for this notebook, refer to the GitHub readme."
   ]
  },
  {
   "cell_type": "markdown",
   "metadata": {},
   "source": [
    "## Import the required packages\n",
    "The following modules are for this notebook."
   ]
  },
  {
   "cell_type": "code",
   "execution_count": 1,
   "metadata": {},
   "outputs": [
    {
     "name": "stderr",
     "output_type": "stream",
     "text": [
      "/opt/conda/lib/python3.8/site-packages/bigdl/dllib/utils/engine.py:45: UserWarning: Find both SPARK_HOME and pyspark. You may need to check whether they match with each other. SPARK_HOME environment variable is set to: /opt/spark, and pyspark is found in: /opt/conda/lib/python3.8/site-packages/pyspark/__init__.py. If they are unmatched, please use one source only to avoid conflict. For example, you can unset SPARK_HOME and use pyspark only.\n",
      "  warnings.warn(warning_msg)\n"
     ]
    }
   ],
   "source": [
    "import warnings\n",
    "# Ignoring the warnings to improve readability of the notebook\n",
    "warnings.filterwarnings(\"ignore\", message=\"numpy.dtype size changed\")\n",
    "\n",
    "import random\n",
    "import time\n",
    "import numpy as np\n",
    "from math import ceil\n",
    "#from bigdl.dllib.optim.optimizer import SGD, SequentialSchedule, Warmup, Poly,\\Plateau, EveryEpoch, \n",
    "#TrainSummary,\\ValidationSummary, SeveralIteration, Step\n",
    "from pyspark.ml.evaluation import BinaryClassificationEvaluator\n",
    "from pyspark.sql import SparkSession, SQLContext\n",
    "from pyspark.sql.functions import col, udf\n",
    "from pyspark.sql.types import DoubleType\n",
    "from pyspark.storagelevel import StorageLevel\n",
    "from bigdl.dllib.nncontext import *\n",
    "from bigdl.dllib.feature.image.imagePreprocessing import *\n",
    "from bigdl.dllib.feature.common import ChainedPreprocessing\n",
    "from bigdl.dllib.keras.layers import Input, Flatten, Dense, GlobalAveragePooling2D, Dropout\n",
    "from bigdl.dllib.keras.metrics import AUC\n",
    "from bigdl.dllib.keras.optimizers import Adam\n",
    "from bigdl.dllib.keras.models import Model\n",
    "from bigdl.dllib.net.net_load import Net\n",
    "from bigdl.dllib.nnframes import NNEstimator, NNImageReader\n",
    "from bigdl.dllib.keras.objectives import BinaryCrossEntropy\n",
    "from pyspark.sql.types import StringType, ArrayType\n",
    "import matplotlib.pyplot as plt"
   ]
  },
  {
   "cell_type": "markdown",
   "metadata": {},
   "source": [
    "## Transfer learning and loading pre-trained models\n",
    "We use transfer learning for training the model. In the following cell, we show how to load a pre-trained Inception, ResNet-50, VGG, and a DenseNet model. These models are pre-trained with ImageNet dataset and are available [here](https://analytics-zoo.github.io/0.4.0/#ProgrammingGuide/image-classification/). Only one of the models is used in the actual training. You can switch between the different models below by calling the appropritate function to  see how they perform.\n",
    "\n",
    "*get_resent_model* function below is used to load an __ResNet-50__ Model. The function accepts two parameters:\n",
    "- *model_path* - This is the path in your HDFS where the model pretrained model is located\n",
    "- *label_length* - This is the number of labels for a given task. For this exercise, the Xrays can have 14 diseases. *label-length* is always 14.\n",
    "\n",
    "The function does the following:\n",
    "-  *Net.load_bigdl()* - loads a BigDL model. _Net_ package can be used to load models from other frameworks like Caffe, Torch and TensorFlow. This returns a _Model_.\n",
    "- *new_graph()* removes layers after \"pool5\"\n",
    "- *Input()* creates a new layer for the Xray images. The images are resized to 224x224 and have three channels\n",
    "- The input layer is added to the model using *to_keras*\n",
    "- We then flatten the neural network, add dropout and apply regularization\n",
    "\n",
    "    "
   ]
  },
  {
   "cell_type": "code",
   "execution_count": 2,
   "metadata": {},
   "outputs": [],
   "source": [
    "from bigdl.dllib.keras.layers import *\n",
    "\n",
    "# Function to load a ResNet50 model\n",
    "def build_model(label_length):\n",
    "    model = Sequential()\n",
    "    model.add(Conv2D(32, 3, 3, input_shape=(3, 224, 224)))\n",
    "    model.add(Activation(\"relu\"))\n",
    "    model.add(MaxPooling2D(pool_size=[2, 2]))\n",
    "\n",
    "    model.add(Conv2D(32, 3, 3))\n",
    "    model.add(Activation(\"relu\"))\n",
    "    model.add(MaxPooling2D(pool_size=[2, 2]))\n",
    "\n",
    "    model.add(Conv2D(64, 3, 3))\n",
    "    model.add(Activation(\"relu\"))\n",
    "    model.add(MaxPooling2D(pool_size=[2, 2]))\n",
    "\n",
    "    model.add(Flatten())\n",
    "    model.add(Dense(64))\n",
    "    model.add(Activation(\"relu\"))\n",
    "    model.add(Dropout(0.5))\n",
    "    model.add(Dense(label_length, activation=\"sigmoid\"))\n",
    "    #model.add(Activation(\"sigmoid\"))\n",
    "\n",
    "    return model\n"
   ]
  },
  {
   "cell_type": "markdown",
   "metadata": {},
   "source": [
    "## Learning Rate Scheduler for SGD and Adam optimizer \n",
    "\n",
    "We tried two optimizers: SGD and Adam. We used use learning rate schduler with both. Here is an exaplanation of some key parameters used:\n",
    "- *SequentialSchedule* - *SequentialSchedule* is used to combine multiple learning rate scheduler. In this exercise, we combine two learning rate scheduler. First we increase the learning rate scheduler using *Warmup*, then we use *Plateau* to gradually reduce the learning rate. For more information, refer to this [link](https://github.com/intel-analytics/BigDL/blob/6ab9f3d65ed1f9c005b003bf587ab22988a21ef9/docs/docs/APIGuide/Optimizers/Learningrate-Scheduler.md).\n",
    "-  *num_epoch* - Number of Epochs you want to train the model\n",
    "- *batchSize* - BatchSize used in training. This must be a multiple of number of Spark executors * number of cores in each executor\n",
    "- *trainingCount* - Total records in the training dataset\n",
    "- *warmupEpoch* - Specifies the number of warm up Epochs. The learning rate will increase during the warm up epochs\n",
    "- *initlr* - is the initial learning rate\n",
    "- *maxlr* - is the maximum learning rate\n",
    "- *Warmup* scheduler increases the learning rate by *Warmupdelta* for *warmup_iteration*\n",
    "- *Plateau* scheduer decreases the learning rate for *cooldownIteration*\n",
    "  "
   ]
  },
  {
   "cell_type": "code",
   "execution_count": 3,
   "metadata": {},
   "outputs": [],
   "source": [
    "def get_sgd_optimMethod(num_epoch, trainingCount, batchSize):\n",
    "    iterationPerEpoch = int(ceil(float(trainingCount) / batchSize))\n",
    "    warmupEpoch = 10\n",
    "    warmup_iteration = warmupEpoch * iterationPerEpoch\n",
    "    initlr = 1e-6\n",
    "    maxlr = 0.001\n",
    "    warmupDelta = (maxlr - initlr) / warmup_iteration\n",
    "    cooldownIteration = (num_epoch - warmupEpoch) * iterationPerEpoch\n",
    "\n",
    "    lrSchedule = SequentialSchedule(iterationPerEpoch)\n",
    "    lrSchedule.add(Warmup(warmupDelta), warmup_iteration)\n",
    "    lrSchedule.add(Plateau(\"Loss\", factor=0.1, patience=1, mode=\"min\", epsilon=0.01, cooldown=0, min_lr=1e-15 ), \n",
    "                   cooldownIteration)\n",
    "    optim = SGD(learningrate=initlr, momentum=0.9, dampening=0.0, nesterov=True,\n",
    "                leaningrate_schedule=lrSchedule)\n",
    "    return optim\n",
    "\n",
    "def get_adam_optimMethod(num_epoch, trainingCount, batchSize):\n",
    "    iterationPerEpoch = int(ceil(float(trainingCount) / batchSize))\n",
    "    warmupEpoch = 5\n",
    "    warmup_iteration = warmupEpoch * iterationPerEpoch\n",
    "    initlr = 1e-7\n",
    "    maxlr = 0.0001\n",
    "    warmupDelta = (maxlr - initlr) / warmup_iteration\n",
    "    cooldownIteration = (num_epoch - warmupEpoch) * iterationPerEpoch\n",
    "\n",
    "    lrSchedule = SequentialSchedule(iterationPerEpoch)\n",
    "    lrSchedule.add(Warmup(warmupDelta), warmup_iteration)\n",
    "    lrSchedule.add(Plateau(\"Loss\", factor=0.1, patience=1, mode=\"min\", epsilon=0.01, cooldown=0, min_lr=1e-15 ),\n",
    "                   cooldownIteration)\n",
    "    optim = Adam(learningrate=initlr, leaningrate_schedule=lrSchedule)\n",
    "    return optim"
   ]
  },
  {
   "cell_type": "markdown",
   "metadata": {},
   "source": [
    "## Calculate the AUC-ROC for a disease\n",
    "\n",
    "The following function calculates the ROC for disease *k*. We use ML Pipeline *BinaryClassificationEvaluator* for this."
   ]
  },
  {
   "cell_type": "code",
   "execution_count": 4,
   "metadata": {},
   "outputs": [],
   "source": [
    "def get_auc_for_kth_class(k, df, label_col=\"label\", prediction_col=\"prediction\"):\n",
    "    get_Kth = udf(lambda a: a[k], DoubleType())\n",
    "    extracted_df = df.withColumn(\"kth_label\", get_Kth(col(label_col))) \\\n",
    "        .withColumn(\"kth_prediction\", get_Kth(col(prediction_col))) \\\n",
    "        .select('kth_label', 'kth_prediction')\n",
    "    roc_score = BinaryClassificationEvaluator(rawPredictionCol='kth_prediction',\n",
    "                                              labelCol='kth_label', metricName=\"areaUnderROC\").evaluate(extracted_df)\n",
    "    return roc_score"
   ]
  },
  {
   "cell_type": "markdown",
   "metadata": {},
   "source": [
    "## Plot AUC\n",
    "This function is used to evaluate and printout auc for all 14 classes \n"
   ]
  },
  {
   "cell_type": "code",
   "execution_count": 5,
   "metadata": {},
   "outputs": [],
   "source": [
    "def plotingAuc(roc_auc_label):\n",
    "    lists=[]\n",
    "    lists = sorted(roc_auc_label.items()) \n",
    "    label_texts = [\"Atelectasis\", \"Cardiomegaly\", \"Effusion\", \"Infiltration\", \"Mass\", \"Nodule\", \"Pneumonia\",\n",
    "                   \"Pneumothorax\", \"Consolidation\",\"Edema\", \"Emphysema\", \"Fibrosis\", \"Pleural_Thickening\", \"Hernia\"]\n",
    "    x, y =zip(*lists)\n",
    "    label_map = {k: v for v, k in enumerate(label_texts)}\n",
    "    rng = np.random.RandomState(0)\n",
    "    fig, ax = plt.subplots(figsize=(10, 5))\n",
    "    sizes = 500 * rng.rand(100)\n",
    "    colors = ['#005249','#2300A8', '#00A658', '#00A6B8','#00A6BC', '#00AA58','#1805db', '#154406', '#631950','#000000','#850e04','#84b701','#adf802','#042e60']\n",
    "    plt.ylabel(\"AUC\")\n",
    "    plt.xlabel(\"Classes\")\n",
    "    plt.title(\"AUC for all 14 classes\")\n",
    "    print(len(sizes))\n",
    "    print(len(x))\n",
    "    print(len(y))\n",
    "    plt.scatter(x, y,  alpha=0.50, color=colors,s=sizes,   cmap='viridis',  marker = '*')\n",
    "    plt.grid(color='grey', linestyle='-', linewidth=0.5, alpha=0.5)\n",
    "    ax.set_xticklabels(x, rotation=45 )\n",
    "    return plt"
   ]
  },
  {
   "cell_type": "markdown",
   "metadata": {},
   "source": [
    "## Evaluating the model and plot AUC "
   ]
  },
  {
   "cell_type": "code",
   "execution_count": 6,
   "metadata": {},
   "outputs": [],
   "source": [
    "def evaluate_and_plot(testDF):\n",
    "    predictionDF = nnModel.transform(testDF).persist(storageLevel=StorageLevel.DISK_ONLY)\n",
    "    label_texts= [\"Atelectasis\", \"Cardiomegaly\", \"Effusion\", \"Infiltration\", \"Mass\", \"Nodule\", \"Pneumonia\",\n",
    "                   \"Pneumothorax\", \"Consolidation\", \"Edema\", \"Emphysema\", \"Fibrosis\", \"Pleural_Thickening\", \"Hernia\"]\n",
    "    label_map = {k: v for v, k in enumerate(label_texts)}\n",
    "    chexnet_order = [\"Atelectasis\", \"Cardiomegaly\", \"Effusion\", \"Infiltration\", \"Mass\", \"Nodule\", \"Pneumonia\", \"Pneumothorax\", \"Consolidation\",\n",
    "     \"Edema\", \"Emphysema\", \"Fibrosis\", \"Pleural_Thickening\", \"Hernia\"]\n",
    "    total_auc = 0.0\n",
    "    roc_auc_label =dict()\n",
    "    for i in chexnet_order:\n",
    "        roc_score = get_auc_for_kth_class(label_map[i], predictionDF)\n",
    "        total_auc += roc_score\n",
    "        print('{:>12} {:>25} {:>5} {:<20}'.format('ROC score for ', i, ' is: ', roc_score))\n",
    "        roc_auc_label[i]=(roc_score)\n",
    "    print(\"Average AUC: \", total_auc / float(label_length))\n",
    "    plt = plotingAuc(roc_auc_label)\n",
    "    plt.show()"
   ]
  },
  {
   "cell_type": "markdown",
   "metadata": {},
   "source": [
    "## Main program\n"
   ]
  },
  {
   "cell_type": "code",
   "execution_count": 7,
   "metadata": {},
   "outputs": [
    {
     "name": "stderr",
     "output_type": "stream",
     "text": [
      "Setting default log level to \"WARN\".\n",
      "To adjust logging level use sc.setLogLevel(newLevel). For SparkR, use setLogLevel(newLevel).\n"
     ]
    },
    {
     "name": "stdout",
     "output_type": "stream",
     "text": [
      "2022-04-06 14:00:49 WARN  NativeCodeLoader:60 - Unable to load native-hadoop library for your platform... using builtin-java classes where applicable\n",
      "2022-04-06 14:00:51,006 Thread-4 WARN The bufferSize is set to 4000 but bufferedIo is false: false\n",
      "2022-04-06 14:00:51,008 Thread-4 WARN The bufferSize is set to 4000 but bufferedIo is false: false\n",
      "2022-04-06 14:00:51,008 Thread-4 WARN The bufferSize is set to 4000 but bufferedIo is false: false\n",
      "2022-04-06 14:00:51,009 Thread-4 WARN The bufferSize is set to 4000 but bufferedIo is false: false\n",
      "22-04-06 14:00:51 [Thread-4] INFO  Engine$:121 - Auto detect executor number and executor cores number\n",
      "22-04-06 14:00:51 [Thread-4] INFO  Engine$:123 - Executor number is 1 and executor cores number is 6\n",
      "22-04-06 14:00:51 [Thread-4] INFO  ThreadPool$:95 - Set mkl threads to 1 on thread 15\n",
      "2022-04-06 14:00:51 WARN  SparkContext:69 - Using an existing SparkContext; some configuration may not take effect.\n",
      "22-04-06 14:00:51 [Thread-4] INFO  Engine$:446 - Find existing spark context. Checking the spark conf...\n",
      "cls.getname: com.intel.analytics.bigdl.dllib.utils.python.api.Sample\n",
      "BigDLBasePickler registering: bigdl.dllib.utils.common  Sample\n",
      "cls.getname: com.intel.analytics.bigdl.dllib.utils.python.api.EvaluatedResult\n",
      "BigDLBasePickler registering: bigdl.dllib.utils.common  EvaluatedResult\n",
      "cls.getname: com.intel.analytics.bigdl.dllib.utils.python.api.JTensor\n",
      "BigDLBasePickler registering: bigdl.dllib.utils.common  JTensor\n",
      "cls.getname: com.intel.analytics.bigdl.dllib.utils.python.api.JActivity\n",
      "BigDLBasePickler registering: bigdl.dllib.utils.common  JActivity\n",
      "Number of Executors = 0\n",
      "Number of Cores = 1\n",
      "Batch Size = 12\n"
     ]
    }
   ],
   "source": [
    "random.seed(1234)\n",
    "batch_size = 12 #1024 \n",
    "num_epoch = 15\n",
    "# \n",
    "#    model_path - Path for the pre-trained model file, data and the location to save the model after training. \n",
    "#                 The model path must match the function you are calling (ResNet-50, VGG or DenseNet)\n",
    "#    image_path - Path to all images\n",
    "#    label_path - Path to the label file (Data_Entry_2017.csv) available from NIH\n",
    "#    save_path = Path to save the model and intermediate results \n",
    "image_path = \"/opt/application/data/output\"\n",
    "label_path = \"/opt/application/data\"\n",
    "model_path = \"/opt/application/data/model\" \n",
    "\n",
    "# Get Spark Context\n",
    "sparkConf = create_spark_conf().setAppName(\"Chest X-ray Training\")\n",
    "sc = init_nncontext(sparkConf)\n",
    "spark = SparkSession.builder.config(conf=sparkConf).getOrCreate()\n",
    "\n",
    "# Make sure the batchsize is a multiple of (Number of executors * Number of cores)\n",
    "numexecutors = len(sc._jsc.sc().statusTracker().getExecutorInfos()) - 1\n",
    "numcores = int(sc.getConf().get('spark.executor.cores','1'))\n",
    "\n",
    "print(\"Number of Executors = \" +str(numexecutors))\n",
    "print(\"Number of Cores = \" + str(numcores))\n",
    "print(\"Batch Size = \" + str(batch_size))\n",
    "#if batch_size%(numexecutors*numcores)==0:\n",
    "#    print(\"Batchsize is a multiple of (Number of Executors * Number of cores. Good to proceed\")\n",
    "#else:\n",
    "#    print(\"Batchsize is NOT a multiple of (Number of Executors * Number of cores). Do not proceed !\")"
   ]
  },
  {
   "cell_type": "markdown",
   "metadata": {},
   "source": [
    "## Load the data\n",
    "We then load the dataset. NIH has __[released](https://www.nih.gov/news-events/news-releases/nih-clinical-center-provides-one-largest-publicly-available-chest-x-ray-datasets-scientific-community)__ the chest xray has two sets (training and test). We have created a [notebook](ConvertXray-ConvertImages.ipynb) to read the Xray images from NIH an save them as training and test datasets (in two folders /trainingDF and /testDF). In the below code, we read these dataframes and combine them to a single Spark dataframe. We then sploy them to the actual training and validation Dataframes for our model. We use *ramdomSplit* to split the data.\n",
    "\n"
   ]
  },
  {
   "cell_type": "code",
   "execution_count": 10,
   "metadata": {},
   "outputs": [
    {
     "name": "stderr",
     "output_type": "stream",
     "text": [
      "                                                                                \r"
     ]
    },
    {
     "name": "stdout",
     "output_type": "stream",
     "text": [
      "Number of training images:  12\n",
      "Number of validation images:  12\n"
     ]
    }
   ],
   "source": [
    "label_length = 14\n",
    "label_texts = [\"Atelectasis\", \"Cardiomegaly\", \"Effusion\", \"Infiltration\", \"Mass\", \"Nodule\", \"Pneumonia\", \"Pneumothorax\",\n",
    "               \"Consolidation\", \"Edema\", \"Emphysema\", \"Fibrosis\", \"Pleural_Thickening\", \"Hernia\"]\n",
    "label_map = {k: v for v, k in enumerate(label_texts)}\n",
    "\n",
    "def text_to_label(text):\n",
    "    arr = [0.0] * len(label_texts)\n",
    "    for l in text.split(\"|\"):\n",
    "        if l != \"No Finding\":\n",
    "            arr[label_map[l]] = 1.0\n",
    "    return arr\n",
    "\n",
    "getLabel = udf(lambda x: text_to_label(x), ArrayType(DoubleType()))\n",
    "getName = udf(lambda row: os.path.basename(row[0]), StringType())\n",
    "imageDF = NNImageReader.readImages(image_path, sc, resizeH=256, resizeW=256, image_codec=1) \\\n",
    "    .withColumn(\"Image_Index\", getName(col('image')))\n",
    "\n",
    "labelDF = spark.read.load(label_path + \"/Data_Entry_2017_v2020.csv\", format=\"csv\", sep=\",\", inferSchema=\"true\", header=\"true\") \\\n",
    "        .select(\"Image_Index\", \"Finding_Labels\") \\\n",
    "        .withColumn(\"label\", getLabel(col('Finding_Labels'))) \\\n",
    "        #.withColumnRenamed('Image Index', 'Image_Index')\n",
    "\n",
    "totalDF = imageDF.join(labelDF, on=\"Image_Index\", how=\"inner\")\n",
    "#.withColumnRenamed(\"Finding Labels\", \"Finding_Labels\")\n",
    "\n",
    "#(trainingDF, validationDF) = totalDF.randomSplit([0.8, 0.2])\n",
    "trainingDF=totalDF\n",
    "validationDF=totalDF\n",
    "print(\"Number of training images: \", trainingDF.count())\n",
    "print(\"Number of validation images: \", validationDF.count())"
   ]
  },
  {
   "cell_type": "markdown",
   "metadata": {},
   "source": [
    "## Load the pre-trained model and optimiser\n",
    "We first load the pre-trained model. We use ResNet in the below example. It can be changed to any of the above defined models. We then load the optimiser"
   ]
  },
  {
   "cell_type": "code",
   "execution_count": 11,
   "metadata": {},
   "outputs": [
    {
     "name": "stdout",
     "output_type": "stream",
     "text": [
      "creating: createZooKerasSequential\n",
      "creating: createZooKerasConvolution2D\n",
      "creating: createZooKerasActivation\n",
      "creating: createZooKerasMaxPooling2D\n",
      "creating: createZooKerasConvolution2D\n",
      "creating: createZooKerasActivation\n",
      "creating: createZooKerasMaxPooling2D\n",
      "creating: createZooKerasConvolution2D\n",
      "creating: createZooKerasActivation\n",
      "creating: createZooKerasMaxPooling2D\n",
      "creating: createZooKerasFlatten\n",
      "creating: createZooKerasDense\n",
      "creating: createZooKerasActivation\n",
      "creating: createZooKerasDropout\n",
      "creating: createZooKerasDense\n"
     ]
    }
   ],
   "source": [
    "# Load the pretrained model\n",
    "#xray_model = get_resnet_model(model_path, label_length)\n",
    "xray_model = build_model(label_length)\n",
    "# Define the Optimiser\n",
    "#optim_method = get_adam_optimMethod(num_epoch, trainingDF.count(), batch_size)"
   ]
  },
  {
   "cell_type": "markdown",
   "metadata": {},
   "source": [
    "## Image pre-processing\n",
    "\n",
    "We build *ChainedPreprocessing* to combine the following preprocessing.\n",
    "- *RowToImageFeature* - converts a Spark row to a BigDL ImageFeature\n",
    "- *ImageCenterCrop* - resizes the image to 224 x 224\n",
    "- *ImageHFlip* - Randomly flips 50% of the image horizontally\n",
    "- *ImageBrightness* - Randomly adjust the brigthness of 50% of the images\n",
    "- *ImageChannelNormalize* - Normalize the images by subtracting the mean value of the ImageNet images"
   ]
  },
  {
   "cell_type": "code",
   "execution_count": 12,
   "metadata": {},
   "outputs": [
    {
     "name": "stdout",
     "output_type": "stream",
     "text": [
      "creating: createRowToImageFeature\n",
      "creating: createImageCenterCrop\n",
      "creating: createImageHFlip\n",
      "creating: createImageRandomPreprocessing\n",
      "creating: createImageBrightness\n",
      "creating: createImageRandomPreprocessing\n",
      "creating: createImageChannelNormalize\n",
      "creating: createImageMatToTensor\n",
      "creating: createImageFeatureToTensor\n",
      "creating: createChainedPreprocessing\n"
     ]
    }
   ],
   "source": [
    "transformer = ChainedPreprocessing(\n",
    "            [RowToImageFeature(), ImageCenterCrop(224, 224), ImageRandomPreprocessing(ImageHFlip(), 0.5),\n",
    "             ImageRandomPreprocessing(ImageBrightness(0.0, 32.0), 0.5),\n",
    "             ImageChannelNormalize(123.68, 116.779, 103.939), ImageMatToTensor(), ImageFeatureToTensor()])"
   ]
  },
  {
   "cell_type": "markdown",
   "metadata": {},
   "source": [
    "### Save training and validation summary \n",
    "\n",
    "Training and validation summary can be saved in the following directories"
   ]
  },
  {
   "cell_type": "code",
   "execution_count": 13,
   "metadata": {},
   "outputs": [],
   "source": [
    "#train_summary = TrainSummary(log_dir=\"xray_save_summary\", app_name=\"Chest X-ray Training\")\n",
    "#val_summary = ValidationSummary(log_dir=\"xray_save_summary\", app_name=\"Chest X-ray Training\")\n",
    "#train_summary.set_summary_trigger(\"LearningRate\", SeveralIteration(50))\n",
    "#train_summary.set_summary_trigger(\"Loss\", SeveralIteration(50))"
   ]
  },
  {
   "cell_type": "markdown",
   "metadata": {},
   "source": [
    "### Define the Classifier"
   ]
  },
  {
   "cell_type": "code",
   "execution_count": 15,
   "metadata": {},
   "outputs": [
    {
     "name": "stdout",
     "output_type": "stream",
     "text": [
      "creating: createZooKerasBinaryCrossEntropy\n",
      "creating: createSeqToTensor\n",
      "creating: createFeatureLabelPreprocessing\n",
      "creating: createNNEstimator\n",
      "creating: createEveryEpoch\n",
      "creating: createAUC\n",
      "creating: createAdam\n"
     ]
    }
   ],
   "source": [
    "classifier = NNEstimator(xray_model, BinaryCrossEntropy(), transformer) \\\n",
    "            .setBatchSize(batch_size) \\\n",
    "            .setMaxEpoch(num_epoch) \\\n",
    "            .setFeaturesCol(\"image\") \\\n",
    "            .setCachingSample(False) \\\n",
    "            .setValidation(EveryEpoch(), validationDF, [AUC()], batch_size).setOptimMethod(Adam())\n",
    "            #.setTrainSummary(train_summary) \\\n",
    "            #.setValidationSummary(val_summary) \\\n",
    "            "
   ]
  },
  {
   "cell_type": "markdown",
   "metadata": {},
   "source": [
    "### Train the model"
   ]
  },
  {
   "cell_type": "code",
   "execution_count": 16,
   "metadata": {},
   "outputs": [
    {
     "name": "stdout",
     "output_type": "stream",
     "text": [
      "22-04-06 14:02:29 [Thread-4] INFO  InternalDistriOptimizer$:987 - Sequential[d0dde2fb] isTorch is false\n",
      "22-04-06 14:02:29 [Thread-4] INFO  DistriOptimizer$:826 - caching training rdd ...\n",
      "22-04-06 14:02:30 [Thread-4] INFO  DistriOptimizer$:652 - Cache thread models...\n",
      "22-04-06 14:02:30 [Executor task launch worker for task 0.0 in stage 21.0 (TID 32)] INFO  ThreadPool$:95 - Set mkl threads to 1 on thread 66\n",
      "22-04-06 14:02:30 [Executor task launch worker for task 0.0 in stage 21.0 (TID 32)] INFO  ThreadPool$:95 - Set mkl threads to 1 on thread 66\n",
      "22-04-06 14:02:30 [Executor task launch worker for task 0.0 in stage 21.0 (TID 32)] INFO  ThreadPool$:95 - Set mkl threads to 1 on thread 66\n",
      "22-04-06 14:02:30 [Executor task launch worker for task 0.0 in stage 21.0 (TID 32)] INFO  ThreadPool$:95 - Set mkl threads to 1 on thread 66\n",
      "22-04-06 14:02:31 [Executor task launch worker for task 0.0 in stage 21.0 (TID 32)] INFO  ThreadPool$:95 - Set mkl threads to 1 on thread 66\n",
      "22-04-06 14:02:31 [Executor task launch worker for task 0.0 in stage 21.0 (TID 32)] INFO  ThreadPool$:95 - Set mkl threads to 1 on thread 66\n",
      "22-04-06 14:02:31 [Executor task launch worker for task 0.0 in stage 21.0 (TID 32)] INFO  ThreadPool$:95 - Set mkl threads to 1 on thread 66\n",
      "22-04-06 14:02:31 [Executor task launch worker for task 0.0 in stage 21.0 (TID 32)] INFO  DistriOptimizer$:635 - model thread pool size is 1\n",
      "2022-04-06 14:02:31 WARN  BlockManager:69 - Asked to remove block test_0weights0, which does not exist\n",
      "2022-04-06 14:02:31 WARN  BlockManager:69 - Asked to remove block test_0gradients0, which does not exist\n",
      "22-04-06 14:02:31 [Thread-4] INFO  DistriOptimizer$:654 - Cache thread models... done\n",
      "22-04-06 14:02:31 [Thread-4] INFO  DistriOptimizer$:164 - Count dataset\n",
      "22-04-06 14:02:31 [Thread-4] INFO  DistriOptimizer$:168 - Count dataset complete. Time elapsed: 0.0587488s\n",
      "22-04-06 14:02:31 [Thread-4] INFO  DistriOptimizer$:176 - config  {\n",
      "\tcomputeThresholdbatchSize: 100\n",
      "\tmaxDropPercentage: 0.0\n",
      "\twarmupIterationNum: 200\n",
      "\tisLayerwiseScaled: false\n",
      "\tdropPercentage: 0.0\n",
      " }\n",
      "22-04-06 14:02:31 [Thread-4] INFO  DistriOptimizer$:180 - Shuffle data\n",
      "22-04-06 14:02:31 [Thread-4] INFO  DistriOptimizer$:183 - Shuffle data complete. Takes 0.0059823s\n"
     ]
    },
    {
     "name": "stderr",
     "output_type": "stream",
     "text": [
      "                                                                                \r"
     ]
    },
    {
     "name": "stdout",
     "output_type": "stream",
     "text": [
      "22-04-06 14:02:32 [Thread-4] INFO  DistriOptimizer$:433 - [Epoch 1 12/12][Iteration 1][Wall Clock 0.8640445s] Trained 12.0 records in 0.8640445 seconds. Throughput is 13.888174 records/second. Loss is 4.518741. \n",
      "22-04-06 14:02:32 [Thread-4] INFO  DistriOptimizer$:475 - [Epoch 1 12/12][Iteration 1][Wall Clock 0.8640445s] Epoch finished. Wall clock time is 870.429 ms\n",
      "22-04-06 14:02:32 [Thread-4] INFO  DistriOptimizer$:433 - [Epoch 2 12/12][Iteration 2][Wall Clock 1.1441514s] Trained 12.0 records in 0.2737224 seconds. Throughput is 43.840034 records/second. Loss is 6.291778. \n",
      "22-04-06 14:02:32 [Thread-4] INFO  DistriOptimizer$:475 - [Epoch 2 12/12][Iteration 2][Wall Clock 1.1441514s] Epoch finished. Wall clock time is 1150.4285 ms\n",
      "22-04-06 14:02:32 [Thread-4] INFO  DistriOptimizer$:112 - [Epoch 2 12/12][Iteration 2][Wall Clock 1.1441514s] Validate model...\n",
      "22-04-06 14:02:32 [Thread-4] INFO  DistriOptimizer$:178 - [Epoch 2 12/12][Iteration 2][Wall Clock 1.1441514s] validate model throughput is 83.37572 records/second\n",
      "22-04-06 14:02:32 [Thread-4] INFO  DistriOptimizer$:181 - [Epoch 2 12/12][Iteration 2][Wall Clock 1.1441514s] AucScore is (Average score: 0.8253969, count: 12)\n",
      "score for each class is:\n",
      "0.99999994 \n",
      "0.55555564 \n",
      "0.5000004 \n",
      "0.5000004 \n",
      "0.99999994 \n",
      "0.99999994 \n",
      "0.99999994 \n",
      "0.99999994 \n",
      "0.99999994 \n",
      "0.99999994 \n",
      "0.5000004 \n",
      "0.99999994 \n",
      "0.99999994 \n",
      "0.49999994 \n",
      "\n",
      "22-04-06 14:02:33 [Thread-4] INFO  DistriOptimizer$:433 - [Epoch 3 12/12][Iteration 3][Wall Clock 1.7889367s] Trained 12.0 records in 0.6385082 seconds. Throughput is 18.793808 records/second. Loss is 5.97513. \n",
      "22-04-06 14:02:33 [Thread-4] INFO  DistriOptimizer$:475 - [Epoch 3 12/12][Iteration 3][Wall Clock 1.7889367s] Epoch finished. Wall clock time is 1946.9213 ms\n",
      "22-04-06 14:02:33 [Thread-4] INFO  DistriOptimizer$:112 - [Epoch 3 12/12][Iteration 3][Wall Clock 1.7889367s] Validate model...\n",
      "22-04-06 14:02:33 [Thread-4] INFO  DistriOptimizer$:178 - [Epoch 3 12/12][Iteration 3][Wall Clock 1.7889367s] validate model throughput is 110.37375 records/second\n",
      "22-04-06 14:02:33 [Thread-4] INFO  DistriOptimizer$:181 - [Epoch 3 12/12][Iteration 3][Wall Clock 1.7889367s] AucScore is (Average score: 0.8492064, count: 12)\n",
      "score for each class is:\n",
      "0.99999994 \n",
      "0.8888888 \n",
      "0.5000004 \n",
      "0.5000004 \n",
      "0.99999994 \n",
      "0.99999994 \n",
      "0.99999994 \n",
      "0.99999994 \n",
      "0.99999994 \n",
      "0.99999994 \n",
      "0.5000004 \n",
      "0.99999994 \n",
      "0.99999994 \n",
      "0.49999994 \n",
      "\n",
      "22-04-06 14:02:33 [Thread-4] INFO  DistriOptimizer$:433 - [Epoch 4 12/12][Iteration 4][Wall Clock 2.5041053s] Trained 12.0 records in 0.557184 seconds. Throughput is 21.536871 records/second. Loss is 5.0259714. \n",
      "22-04-06 14:02:33 [Thread-4] INFO  DistriOptimizer$:475 - [Epoch 4 12/12][Iteration 4][Wall Clock 2.5041053s] Epoch finished. Wall clock time is 2622.9939 ms\n",
      "22-04-06 14:02:33 [Thread-4] INFO  DistriOptimizer$:112 - [Epoch 4 12/12][Iteration 4][Wall Clock 2.5041053s] Validate model...\n",
      "22-04-06 14:02:34 [Thread-4] INFO  DistriOptimizer$:178 - [Epoch 4 12/12][Iteration 4][Wall Clock 2.5041053s] validate model throughput is 118.12954 records/second\n",
      "22-04-06 14:02:34 [Thread-4] INFO  DistriOptimizer$:181 - [Epoch 4 12/12][Iteration 4][Wall Clock 2.5041053s] AucScore is (Average score: 0.82142866, count: 12)\n",
      "score for each class is:\n",
      "0.99999994 \n",
      "0.5000001 \n",
      "0.5000004 \n",
      "0.5000004 \n",
      "0.99999994 \n",
      "0.99999994 \n",
      "0.99999994 \n",
      "0.99999994 \n",
      "0.99999994 \n",
      "0.99999994 \n",
      "0.5000004 \n",
      "0.99999994 \n",
      "0.99999994 \n",
      "0.49999994 \n",
      "\n",
      "22-04-06 14:02:34 [Thread-4] INFO  DistriOptimizer$:433 - [Epoch 5 12/12][Iteration 5][Wall Clock 2.8869919s] Trained 12.0 records in 0.263998 seconds. Throughput is 45.45489 records/second. Loss is 4.5716596. \n",
      "22-04-06 14:02:34 [Thread-4] INFO  DistriOptimizer$:475 - [Epoch 5 12/12][Iteration 5][Wall Clock 2.8869919s] Epoch finished. Wall clock time is 2997.1282 ms\n",
      "22-04-06 14:02:34 [Thread-4] INFO  DistriOptimizer$:112 - [Epoch 5 12/12][Iteration 5][Wall Clock 2.8869919s] Validate model...\n",
      "22-04-06 14:02:34 [Thread-4] INFO  DistriOptimizer$:178 - [Epoch 5 12/12][Iteration 5][Wall Clock 2.8869919s] validate model throughput is 111.29557 records/second\n",
      "22-04-06 14:02:34 [Thread-4] INFO  DistriOptimizer$:181 - [Epoch 5 12/12][Iteration 5][Wall Clock 2.8869919s] AucScore is (Average score: 0.8080358, count: 12)\n",
      "score for each class is:\n",
      "0.99999994 \n",
      "0.5000001 \n",
      "0.5000004 \n",
      "0.5000004 \n",
      "0.99999994 \n",
      "0.99999994 \n",
      "0.99999994 \n",
      "0.99999994 \n",
      "0.99999994 \n",
      "0.99999994 \n",
      "0.5000004 \n",
      "0.99999994 \n",
      "0.99999994 \n",
      "0.31250003 \n",
      "\n",
      "22-04-06 14:02:34 [Thread-4] INFO  DistriOptimizer$:433 - [Epoch 6 12/12][Iteration 6][Wall Clock 3.2757697s] Trained 12.0 records in 0.2786415 seconds. Throughput is 43.06609 records/second. Loss is 6.0194397. \n",
      "22-04-06 14:02:34 [Thread-4] INFO  DistriOptimizer$:475 - [Epoch 6 12/12][Iteration 6][Wall Clock 3.2757697s] Epoch finished. Wall clock time is 3392.382 ms\n",
      "22-04-06 14:02:34 [Thread-4] INFO  DistriOptimizer$:112 - [Epoch 6 12/12][Iteration 6][Wall Clock 3.2757697s] Validate model...\n",
      "22-04-06 14:02:34 [Thread-4] INFO  DistriOptimizer$:178 - [Epoch 6 12/12][Iteration 6][Wall Clock 3.2757697s] validate model throughput is 108.1694 records/second\n",
      "22-04-06 14:02:34 [Thread-4] INFO  DistriOptimizer$:181 - [Epoch 6 12/12][Iteration 6][Wall Clock 3.2757697s] AucScore is (Average score: 0.8180804, count: 12)\n",
      "score for each class is:\n",
      "0.99999994 \n",
      "0.5000001 \n",
      "0.5000004 \n",
      "0.5000004 \n",
      "0.99999994 \n",
      "0.99999994 \n",
      "0.99999994 \n",
      "0.99999994 \n",
      "0.99999994 \n",
      "0.9999999 \n",
      "0.5000004 \n",
      "0.99999994 \n",
      "0.99999994 \n",
      "0.45312494 \n",
      "\n",
      "22-04-06 14:02:35 [Thread-4] INFO  DistriOptimizer$:433 - [Epoch 7 12/12][Iteration 7][Wall Clock 3.9809704s] Trained 12.0 records in 0.5885884 seconds. Throughput is 20.38776 records/second. Loss is 5.0086765. \n",
      "22-04-06 14:02:35 [Thread-4] INFO  DistriOptimizer$:475 - [Epoch 7 12/12][Iteration 7][Wall Clock 3.9809704s] Epoch finished. Wall clock time is 4099.5234 ms\n",
      "22-04-06 14:02:35 [Thread-4] INFO  DistriOptimizer$:112 - [Epoch 7 12/12][Iteration 7][Wall Clock 3.9809704s] Validate model...\n",
      "22-04-06 14:02:35 [Thread-4] INFO  DistriOptimizer$:178 - [Epoch 7 12/12][Iteration 7][Wall Clock 3.9809704s] validate model throughput is 113.12185 records/second\n",
      "22-04-06 14:02:35 [Thread-4] INFO  DistriOptimizer$:181 - [Epoch 7 12/12][Iteration 7][Wall Clock 3.9809704s] AucScore is (Average score: 0.82142866, count: 12)\n",
      "score for each class is:\n",
      "0.99999994 \n",
      "0.5000001 \n",
      "0.5000004 \n",
      "0.5000004 \n",
      "0.99999994 \n",
      "0.99999994 \n",
      "0.99999994 \n",
      "0.99999994 \n",
      "0.99999994 \n",
      "0.99999994 \n",
      "0.5000004 \n",
      "0.99999994 \n",
      "0.99999994 \n",
      "0.49999994 \n",
      "\n",
      "22-04-06 14:02:35 [Thread-4] INFO  DistriOptimizer$:433 - [Epoch 8 12/12][Iteration 8][Wall Clock 4.3470207s] Trained 12.0 records in 0.2474973 seconds. Throughput is 48.48538 records/second. Loss is 6.9149055. \n",
      "22-04-06 14:02:35 [Thread-4] INFO  DistriOptimizer$:475 - [Epoch 8 12/12][Iteration 8][Wall Clock 4.3470207s] Epoch finished. Wall clock time is 4460.1945 ms\n",
      "22-04-06 14:02:35 [Thread-4] INFO  DistriOptimizer$:112 - [Epoch 8 12/12][Iteration 8][Wall Clock 4.3470207s] Validate model...\n",
      "22-04-06 14:02:35 [Thread-4] INFO  DistriOptimizer$:178 - [Epoch 8 12/12][Iteration 8][Wall Clock 4.3470207s] validate model throughput is 110.10134 records/second\n",
      "22-04-06 14:02:35 [Thread-4] INFO  DistriOptimizer$:181 - [Epoch 8 12/12][Iteration 8][Wall Clock 4.3470207s] AucScore is (Average score: 0.82142866, count: 12)\n",
      "score for each class is:\n",
      "0.99999994 \n",
      "0.5000001 \n",
      "0.5000004 \n",
      "0.5000004 \n",
      "0.99999994 \n",
      "0.99999994 \n",
      "0.99999994 \n",
      "0.99999994 \n",
      "0.99999994 \n",
      "0.99999994 \n",
      "0.5000004 \n",
      "0.99999994 \n",
      "0.99999994 \n",
      "0.49999994 \n",
      "\n",
      "22-04-06 14:02:36 [Thread-4] INFO  DistriOptimizer$:433 - [Epoch 9 12/12][Iteration 9][Wall Clock 4.7190054s] Trained 12.0 records in 0.2588109 seconds. Throughput is 46.3659 records/second. Loss is 6.0301538. \n",
      "22-04-06 14:02:36 [Thread-4] INFO  DistriOptimizer$:475 - [Epoch 9 12/12][Iteration 9][Wall Clock 4.7190054s] Epoch finished. Wall clock time is 4835.4917 ms\n",
      "22-04-06 14:02:36 [Thread-4] INFO  DistriOptimizer$:112 - [Epoch 9 12/12][Iteration 9][Wall Clock 4.7190054s] Validate model...\n",
      "22-04-06 14:02:36 [Thread-4] INFO  DistriOptimizer$:178 - [Epoch 9 12/12][Iteration 9][Wall Clock 4.7190054s] validate model throughput is 117.463844 records/second\n",
      "22-04-06 14:02:36 [Thread-4] INFO  DistriOptimizer$:181 - [Epoch 9 12/12][Iteration 9][Wall Clock 4.7190054s] AucScore is (Average score: 0.82142866, count: 12)\n",
      "score for each class is:\n",
      "0.99999994 \n",
      "0.5000001 \n",
      "0.5000004 \n",
      "0.5000004 \n",
      "0.99999994 \n",
      "0.99999994 \n",
      "0.99999994 \n",
      "0.99999994 \n",
      "0.99999994 \n",
      "0.99999994 \n",
      "0.5000004 \n",
      "0.99999994 \n",
      "0.99999994 \n",
      "0.49999994 \n",
      "\n",
      "22-04-06 14:02:36 [Thread-4] INFO  DistriOptimizer$:433 - [Epoch 10 12/12][Iteration 10][Wall Clock 5.091744s] Trained 12.0 records in 0.2562523 seconds. Throughput is 46.82885 records/second. Loss is 5.5999665. \n",
      "22-04-06 14:02:36 [Thread-4] INFO  DistriOptimizer$:475 - [Epoch 10 12/12][Iteration 10][Wall Clock 5.091744s] Epoch finished. Wall clock time is 5200.6812 ms\n",
      "22-04-06 14:02:36 [Thread-4] INFO  DistriOptimizer$:112 - [Epoch 10 12/12][Iteration 10][Wall Clock 5.091744s] Validate model...\n",
      "22-04-06 14:02:36 [Thread-4] INFO  DistriOptimizer$:178 - [Epoch 10 12/12][Iteration 10][Wall Clock 5.091744s] validate model throughput is 68.14995 records/second\n",
      "22-04-06 14:02:36 [Thread-4] INFO  DistriOptimizer$:181 - [Epoch 10 12/12][Iteration 10][Wall Clock 5.091744s] AucScore is (Average score: 0.82142866, count: 12)\n",
      "score for each class is:\n",
      "0.99999994 \n",
      "0.5000001 \n",
      "0.5000004 \n",
      "0.5000004 \n",
      "0.99999994 \n",
      "0.99999994 \n",
      "0.99999994 \n",
      "0.99999994 \n",
      "0.99999994 \n",
      "0.99999994 \n",
      "0.5000004 \n",
      "0.99999994 \n",
      "0.99999994 \n",
      "0.49999994 \n",
      "\n",
      "22-04-06 14:02:36 [Thread-4] INFO  DistriOptimizer$:433 - [Epoch 11 12/12][Iteration 11][Wall Clock 5.4505672s] Trained 12.0 records in 0.249886 seconds. Throughput is 48.021896 records/second. Loss is 5.954176. \n",
      "22-04-06 14:02:36 [Thread-4] INFO  DistriOptimizer$:475 - [Epoch 11 12/12][Iteration 11][Wall Clock 5.4505672s] Epoch finished. Wall clock time is 5633.2599 ms\n",
      "22-04-06 14:02:36 [Thread-4] INFO  DistriOptimizer$:112 - [Epoch 11 12/12][Iteration 11][Wall Clock 5.4505672s] Validate model...\n",
      "22-04-06 14:02:37 [Thread-4] INFO  DistriOptimizer$:178 - [Epoch 11 12/12][Iteration 11][Wall Clock 5.4505672s] validate model throughput is 110.78951 records/second\n",
      "22-04-06 14:02:37 [Thread-4] INFO  DistriOptimizer$:181 - [Epoch 11 12/12][Iteration 11][Wall Clock 5.4505672s] AucScore is (Average score: 0.82142866, count: 12)\n",
      "score for each class is:\n",
      "0.99999994 \n",
      "0.5000001 \n",
      "0.5000004 \n",
      "0.5000004 \n",
      "0.99999994 \n",
      "0.99999994 \n",
      "0.99999994 \n",
      "0.99999994 \n",
      "0.99999994 \n",
      "0.99999994 \n",
      "0.5000004 \n",
      "0.99999994 \n",
      "0.99999994 \n",
      "0.49999994 \n",
      "\n",
      "22-04-06 14:02:37 [Thread-4] INFO  DistriOptimizer$:433 - [Epoch 12 12/12][Iteration 12][Wall Clock 6.0912243s] Trained 12.0 records in 0.4579644 seconds. Throughput is 26.202911 records/second. Loss is 6.585783. \n",
      "22-04-06 14:02:37 [Thread-4] INFO  DistriOptimizer$:475 - [Epoch 12 12/12][Iteration 12][Wall Clock 6.0912243s] Epoch finished. Wall clock time is 6206.176 ms\n",
      "22-04-06 14:02:37 [Thread-4] INFO  DistriOptimizer$:112 - [Epoch 12 12/12][Iteration 12][Wall Clock 6.0912243s] Validate model...\n",
      "22-04-06 14:02:37 [Thread-4] INFO  DistriOptimizer$:178 - [Epoch 12 12/12][Iteration 12][Wall Clock 6.0912243s] validate model throughput is 126.437164 records/second\n",
      "22-04-06 14:02:37 [Thread-4] INFO  DistriOptimizer$:181 - [Epoch 12 12/12][Iteration 12][Wall Clock 6.0912243s] AucScore is (Average score: 0.82142866, count: 12)\n",
      "score for each class is:\n",
      "0.99999994 \n",
      "0.5000001 \n",
      "0.5000004 \n",
      "0.5000004 \n",
      "0.99999994 \n",
      "0.99999994 \n",
      "0.99999994 \n",
      "0.99999994 \n",
      "0.99999994 \n",
      "0.99999994 \n",
      "0.5000004 \n",
      "0.99999994 \n",
      "0.99999994 \n",
      "0.49999994 \n",
      "\n",
      "22-04-06 14:02:37 [Thread-4] INFO  DistriOptimizer$:433 - [Epoch 13 12/12][Iteration 13][Wall Clock 6.4599912s] Trained 12.0 records in 0.2538152 seconds. Throughput is 47.278492 records/second. Loss is 6.027579. \n",
      "22-04-06 14:02:37 [Thread-4] INFO  DistriOptimizer$:475 - [Epoch 13 12/12][Iteration 13][Wall Clock 6.4599912s] Epoch finished. Wall clock time is 6560.9466 ms\n",
      "22-04-06 14:02:37 [Thread-4] INFO  DistriOptimizer$:112 - [Epoch 13 12/12][Iteration 13][Wall Clock 6.4599912s] Validate model...\n",
      "22-04-06 14:02:37 [Thread-4] INFO  DistriOptimizer$:178 - [Epoch 13 12/12][Iteration 13][Wall Clock 6.4599912s] validate model throughput is 121.17039 records/second\n",
      "22-04-06 14:02:37 [Thread-4] INFO  DistriOptimizer$:181 - [Epoch 13 12/12][Iteration 13][Wall Clock 6.4599912s] AucScore is (Average score: 0.82142866, count: 12)\n",
      "score for each class is:\n",
      "0.99999994 \n",
      "0.5000001 \n",
      "0.5000004 \n",
      "0.5000004 \n",
      "0.99999994 \n",
      "0.99999994 \n",
      "0.99999994 \n",
      "0.99999994 \n",
      "0.99999994 \n",
      "0.99999994 \n",
      "0.5000004 \n",
      "0.99999994 \n",
      "0.99999994 \n",
      "0.49999994 \n",
      "\n",
      "22-04-06 14:02:38 [Thread-4] INFO  DistriOptimizer$:433 - [Epoch 14 12/12][Iteration 14][Wall Clock 6.8122719s] Trained 12.0 records in 0.2513253 seconds. Throughput is 47.746883 records/second. Loss is 5.9297137. \n",
      "22-04-06 14:02:38 [Thread-4] INFO  DistriOptimizer$:475 - [Epoch 14 12/12][Iteration 14][Wall Clock 6.8122719s] Epoch finished. Wall clock time is 6919.2683 ms\n",
      "22-04-06 14:02:38 [Thread-4] INFO  DistriOptimizer$:112 - [Epoch 14 12/12][Iteration 14][Wall Clock 6.8122719s] Validate model...\n",
      "22-04-06 14:02:38 [Thread-4] INFO  DistriOptimizer$:178 - [Epoch 14 12/12][Iteration 14][Wall Clock 6.8122719s] validate model throughput is 107.57864 records/second\n",
      "22-04-06 14:02:38 [Thread-4] INFO  DistriOptimizer$:181 - [Epoch 14 12/12][Iteration 14][Wall Clock 6.8122719s] AucScore is (Average score: 0.82142866, count: 12)\n",
      "score for each class is:\n",
      "0.99999994 \n",
      "0.5000001 \n",
      "0.5000004 \n",
      "0.5000004 \n",
      "0.99999994 \n",
      "0.99999994 \n",
      "0.99999994 \n",
      "0.99999994 \n",
      "0.99999994 \n",
      "0.99999994 \n",
      "0.5000004 \n",
      "0.99999994 \n",
      "0.99999994 \n",
      "0.49999994 \n",
      "\n",
      "22-04-06 14:02:38 [Thread-4] INFO  DistriOptimizer$:433 - [Epoch 15 12/12][Iteration 15][Wall Clock 7.1656694s] Trained 12.0 records in 0.2464011 seconds. Throughput is 48.70108 records/second. Loss is 4.3313365. \n",
      "22-04-06 14:02:38 [Thread-4] INFO  DistriOptimizer$:475 - [Epoch 15 12/12][Iteration 15][Wall Clock 7.1656694s] Epoch finished. Wall clock time is 7284.3821 ms\n",
      "22-04-06 14:02:38 [Thread-4] INFO  DistriOptimizer$:112 - [Epoch 15 12/12][Iteration 15][Wall Clock 7.1656694s] Validate model...\n",
      "22-04-06 14:02:38 [Thread-4] INFO  DistriOptimizer$:178 - [Epoch 15 12/12][Iteration 15][Wall Clock 7.1656694s] validate model throughput is 113.818405 records/second\n",
      "22-04-06 14:02:38 [Thread-4] INFO  DistriOptimizer$:181 - [Epoch 15 12/12][Iteration 15][Wall Clock 7.1656694s] AucScore is (Average score: 0.82142866, count: 12)\n",
      "score for each class is:\n",
      "0.99999994 \n",
      "0.5000001 \n",
      "0.5000004 \n",
      "0.5000004 \n",
      "0.99999994 \n",
      "0.99999994 \n",
      "0.99999994 \n",
      "0.99999994 \n",
      "0.99999994 \n",
      "0.99999994 \n",
      "0.5000004 \n",
      "0.99999994 \n",
      "0.99999994 \n",
      "0.49999994 \n",
      "\n",
      "creating: createToTuple\n",
      "creating: createChainedPreprocessing\n",
      "CPU times: user 33 ms, sys: 11.5 ms, total: 44.5 ms\n",
      "Wall time: 10.1 s\n"
     ]
    }
   ],
   "source": [
    "%%time\n",
    "nnModel = classifier.fit(trainingDF)"
   ]
  },
  {
   "cell_type": "markdown",
   "metadata": {},
   "source": [
    "### Evaluate the model and plot AUC accuracy for training Data\n",
    "This can be done to get an idea of how our model is performing. Results from training data evaluation will not be published."
   ]
  },
  {
   "cell_type": "code",
   "execution_count": 92,
   "metadata": {},
   "outputs": [
    {
     "name": "stdout",
     "output_type": "stream",
     "text": [
      "Evaluating the model on training data:\n",
      "22-04-06 12:01:13 [Thread-4] INFO  NNModel:730 - Batch per thread: 2; Total number of cores: 6; Global batch size: 12\n",
      "22-04-06 12:01:14 [Executor task launch worker for task 0.0 in stage 1281.0 (TID 833)] INFO  ThreadPool$:95 - Set mkl threads to 1 on thread 2969\n"
     ]
    },
    {
     "name": "stderr",
     "output_type": "stream",
     "text": [
      "                                                                                \r"
     ]
    },
    {
     "name": "stdout",
     "output_type": "stream",
     "text": [
      "ROC score for                Atelectasis  is:  0.0                 \n",
      "ROC score for               Cardiomegaly  is:  0.5185185185185185  \n",
      "ROC score for                   Effusion  is:  0.5                 \n",
      "ROC score for               Infiltration  is:  0.6363636363636364  \n",
      "ROC score for                       Mass  is:  0.0                 \n",
      "ROC score for                     Nodule  is:  0.0                 \n",
      "ROC score for                  Pneumonia  is:  0.0                 \n",
      "ROC score for               Pneumothorax  is:  0.0                 \n",
      "ROC score for              Consolidation  is:  0.0                 \n",
      "ROC score for                      Edema  is:  0.0                 \n",
      "ROC score for                  Emphysema  is:  0.5                 \n",
      "ROC score for                   Fibrosis  is:  0.0                 \n",
      "ROC score for         Pleural_Thickening  is:  0.0                 \n",
      "ROC score for                     Hernia  is:  0.5                 \n",
      "Average AUC:  0.18963443963443963\n",
      "100\n",
      "14\n",
      "14\n"
     ]
    },
    {
     "ename": "ValueError",
     "evalue": "s must be a scalar, or float array-like with the same size as x and y",
     "output_type": "error",
     "traceback": [
      "\u001b[0;31m---------------------------------------------------------------------------\u001b[0m",
      "\u001b[0;31mValueError\u001b[0m                                Traceback (most recent call last)",
      "Input \u001b[0;32mIn [92]\u001b[0m, in \u001b[0;36m<cell line: 2>\u001b[0;34m()\u001b[0m\n\u001b[1;32m      1\u001b[0m \u001b[38;5;28mprint\u001b[39m(\u001b[38;5;124m\"\u001b[39m\u001b[38;5;124mEvaluating the model on training data:\u001b[39m\u001b[38;5;124m\"\u001b[39m)\n\u001b[0;32m----> 2\u001b[0m \u001b[43mevaluate_and_plot\u001b[49m\u001b[43m(\u001b[49m\u001b[43mtrainingDF\u001b[49m\u001b[43m)\u001b[49m\n\u001b[1;32m      4\u001b[0m SQLContext(sc)\u001b[38;5;241m.\u001b[39mclearCache()\n",
      "Input \u001b[0;32mIn [75]\u001b[0m, in \u001b[0;36mevaluate_and_plot\u001b[0;34m(testDF)\u001b[0m\n\u001b[1;32m     14\u001b[0m     roc_auc_label[i]\u001b[38;5;241m=\u001b[39m(roc_score)\n\u001b[1;32m     15\u001b[0m \u001b[38;5;28mprint\u001b[39m(\u001b[38;5;124m\"\u001b[39m\u001b[38;5;124mAverage AUC: \u001b[39m\u001b[38;5;124m\"\u001b[39m, total_auc \u001b[38;5;241m/\u001b[39m \u001b[38;5;28mfloat\u001b[39m(label_length))\n\u001b[0;32m---> 16\u001b[0m plt \u001b[38;5;241m=\u001b[39m \u001b[43mplotingAuc\u001b[49m\u001b[43m(\u001b[49m\u001b[43mroc_auc_label\u001b[49m\u001b[43m)\u001b[49m\n\u001b[1;32m     17\u001b[0m plt\u001b[38;5;241m.\u001b[39mshow()\n",
      "Input \u001b[0;32mIn [91]\u001b[0m, in \u001b[0;36mplotingAuc\u001b[0;34m(roc_auc_label)\u001b[0m\n\u001b[1;32m     16\u001b[0m \u001b[38;5;28mprint\u001b[39m(\u001b[38;5;28mlen\u001b[39m(x))\n\u001b[1;32m     17\u001b[0m \u001b[38;5;28mprint\u001b[39m(\u001b[38;5;28mlen\u001b[39m(y))\n\u001b[0;32m---> 18\u001b[0m \u001b[43mplt\u001b[49m\u001b[38;5;241;43m.\u001b[39;49m\u001b[43mscatter\u001b[49m\u001b[43m(\u001b[49m\u001b[43mx\u001b[49m\u001b[43m,\u001b[49m\u001b[43m \u001b[49m\u001b[43my\u001b[49m\u001b[43m,\u001b[49m\u001b[43m  \u001b[49m\u001b[43malpha\u001b[49m\u001b[38;5;241;43m=\u001b[39;49m\u001b[38;5;241;43m0.50\u001b[39;49m\u001b[43m,\u001b[49m\u001b[43m \u001b[49m\u001b[43mcolor\u001b[49m\u001b[38;5;241;43m=\u001b[39;49m\u001b[43mcolors\u001b[49m\u001b[43m,\u001b[49m\u001b[43ms\u001b[49m\u001b[38;5;241;43m=\u001b[39;49m\u001b[43msizes\u001b[49m\u001b[43m,\u001b[49m\u001b[43m   \u001b[49m\u001b[43mcmap\u001b[49m\u001b[38;5;241;43m=\u001b[39;49m\u001b[38;5;124;43m'\u001b[39;49m\u001b[38;5;124;43mviridis\u001b[39;49m\u001b[38;5;124;43m'\u001b[39;49m\u001b[43m,\u001b[49m\u001b[43m  \u001b[49m\u001b[43mmarker\u001b[49m\u001b[43m \u001b[49m\u001b[38;5;241;43m=\u001b[39;49m\u001b[43m \u001b[49m\u001b[38;5;124;43m'\u001b[39;49m\u001b[38;5;124;43m*\u001b[39;49m\u001b[38;5;124;43m'\u001b[39;49m\u001b[43m)\u001b[49m\n\u001b[1;32m     19\u001b[0m plt\u001b[38;5;241m.\u001b[39mgrid(color\u001b[38;5;241m=\u001b[39m\u001b[38;5;124m'\u001b[39m\u001b[38;5;124mgrey\u001b[39m\u001b[38;5;124m'\u001b[39m, linestyle\u001b[38;5;241m=\u001b[39m\u001b[38;5;124m'\u001b[39m\u001b[38;5;124m-\u001b[39m\u001b[38;5;124m'\u001b[39m, linewidth\u001b[38;5;241m=\u001b[39m\u001b[38;5;241m0.5\u001b[39m, alpha\u001b[38;5;241m=\u001b[39m\u001b[38;5;241m0.5\u001b[39m)\n\u001b[1;32m     20\u001b[0m ax\u001b[38;5;241m.\u001b[39mset_xticklabels(x, rotation\u001b[38;5;241m=\u001b[39m\u001b[38;5;241m45\u001b[39m )\n",
      "File \u001b[0;32m/opt/conda/lib/python3.8/site-packages/matplotlib/pyplot.py:2807\u001b[0m, in \u001b[0;36mscatter\u001b[0;34m(x, y, s, c, marker, cmap, norm, vmin, vmax, alpha, linewidths, edgecolors, plotnonfinite, data, **kwargs)\u001b[0m\n\u001b[1;32m   2802\u001b[0m \u001b[38;5;129m@_copy_docstring_and_deprecators\u001b[39m(Axes\u001b[38;5;241m.\u001b[39mscatter)\n\u001b[1;32m   2803\u001b[0m \u001b[38;5;28;01mdef\u001b[39;00m \u001b[38;5;21mscatter\u001b[39m(\n\u001b[1;32m   2804\u001b[0m         x, y, s\u001b[38;5;241m=\u001b[39m\u001b[38;5;28;01mNone\u001b[39;00m, c\u001b[38;5;241m=\u001b[39m\u001b[38;5;28;01mNone\u001b[39;00m, marker\u001b[38;5;241m=\u001b[39m\u001b[38;5;28;01mNone\u001b[39;00m, cmap\u001b[38;5;241m=\u001b[39m\u001b[38;5;28;01mNone\u001b[39;00m, norm\u001b[38;5;241m=\u001b[39m\u001b[38;5;28;01mNone\u001b[39;00m,\n\u001b[1;32m   2805\u001b[0m         vmin\u001b[38;5;241m=\u001b[39m\u001b[38;5;28;01mNone\u001b[39;00m, vmax\u001b[38;5;241m=\u001b[39m\u001b[38;5;28;01mNone\u001b[39;00m, alpha\u001b[38;5;241m=\u001b[39m\u001b[38;5;28;01mNone\u001b[39;00m, linewidths\u001b[38;5;241m=\u001b[39m\u001b[38;5;28;01mNone\u001b[39;00m, \u001b[38;5;241m*\u001b[39m,\n\u001b[1;32m   2806\u001b[0m         edgecolors\u001b[38;5;241m=\u001b[39m\u001b[38;5;28;01mNone\u001b[39;00m, plotnonfinite\u001b[38;5;241m=\u001b[39m\u001b[38;5;28;01mFalse\u001b[39;00m, data\u001b[38;5;241m=\u001b[39m\u001b[38;5;28;01mNone\u001b[39;00m, \u001b[38;5;241m*\u001b[39m\u001b[38;5;241m*\u001b[39mkwargs):\n\u001b[0;32m-> 2807\u001b[0m     __ret \u001b[38;5;241m=\u001b[39m \u001b[43mgca\u001b[49m\u001b[43m(\u001b[49m\u001b[43m)\u001b[49m\u001b[38;5;241;43m.\u001b[39;49m\u001b[43mscatter\u001b[49m\u001b[43m(\u001b[49m\n\u001b[1;32m   2808\u001b[0m \u001b[43m        \u001b[49m\u001b[43mx\u001b[49m\u001b[43m,\u001b[49m\u001b[43m \u001b[49m\u001b[43my\u001b[49m\u001b[43m,\u001b[49m\u001b[43m \u001b[49m\u001b[43ms\u001b[49m\u001b[38;5;241;43m=\u001b[39;49m\u001b[43ms\u001b[49m\u001b[43m,\u001b[49m\u001b[43m \u001b[49m\u001b[43mc\u001b[49m\u001b[38;5;241;43m=\u001b[39;49m\u001b[43mc\u001b[49m\u001b[43m,\u001b[49m\u001b[43m \u001b[49m\u001b[43mmarker\u001b[49m\u001b[38;5;241;43m=\u001b[39;49m\u001b[43mmarker\u001b[49m\u001b[43m,\u001b[49m\u001b[43m \u001b[49m\u001b[43mcmap\u001b[49m\u001b[38;5;241;43m=\u001b[39;49m\u001b[43mcmap\u001b[49m\u001b[43m,\u001b[49m\u001b[43m \u001b[49m\u001b[43mnorm\u001b[49m\u001b[38;5;241;43m=\u001b[39;49m\u001b[43mnorm\u001b[49m\u001b[43m,\u001b[49m\n\u001b[1;32m   2809\u001b[0m \u001b[43m        \u001b[49m\u001b[43mvmin\u001b[49m\u001b[38;5;241;43m=\u001b[39;49m\u001b[43mvmin\u001b[49m\u001b[43m,\u001b[49m\u001b[43m \u001b[49m\u001b[43mvmax\u001b[49m\u001b[38;5;241;43m=\u001b[39;49m\u001b[43mvmax\u001b[49m\u001b[43m,\u001b[49m\u001b[43m \u001b[49m\u001b[43malpha\u001b[49m\u001b[38;5;241;43m=\u001b[39;49m\u001b[43malpha\u001b[49m\u001b[43m,\u001b[49m\u001b[43m \u001b[49m\u001b[43mlinewidths\u001b[49m\u001b[38;5;241;43m=\u001b[39;49m\u001b[43mlinewidths\u001b[49m\u001b[43m,\u001b[49m\n\u001b[1;32m   2810\u001b[0m \u001b[43m        \u001b[49m\u001b[43medgecolors\u001b[49m\u001b[38;5;241;43m=\u001b[39;49m\u001b[43medgecolors\u001b[49m\u001b[43m,\u001b[49m\u001b[43m \u001b[49m\u001b[43mplotnonfinite\u001b[49m\u001b[38;5;241;43m=\u001b[39;49m\u001b[43mplotnonfinite\u001b[49m\u001b[43m,\u001b[49m\n\u001b[1;32m   2811\u001b[0m \u001b[43m        \u001b[49m\u001b[38;5;241;43m*\u001b[39;49m\u001b[38;5;241;43m*\u001b[39;49m\u001b[43m(\u001b[49m\u001b[43m{\u001b[49m\u001b[38;5;124;43m\"\u001b[39;49m\u001b[38;5;124;43mdata\u001b[39;49m\u001b[38;5;124;43m\"\u001b[39;49m\u001b[43m:\u001b[49m\u001b[43m \u001b[49m\u001b[43mdata\u001b[49m\u001b[43m}\u001b[49m\u001b[43m \u001b[49m\u001b[38;5;28;43;01mif\u001b[39;49;00m\u001b[43m \u001b[49m\u001b[43mdata\u001b[49m\u001b[43m \u001b[49m\u001b[38;5;129;43;01mis\u001b[39;49;00m\u001b[43m \u001b[49m\u001b[38;5;129;43;01mnot\u001b[39;49;00m\u001b[43m \u001b[49m\u001b[38;5;28;43;01mNone\u001b[39;49;00m\u001b[43m \u001b[49m\u001b[38;5;28;43;01melse\u001b[39;49;00m\u001b[43m \u001b[49m\u001b[43m{\u001b[49m\u001b[43m}\u001b[49m\u001b[43m)\u001b[49m\u001b[43m,\u001b[49m\u001b[43m \u001b[49m\u001b[38;5;241;43m*\u001b[39;49m\u001b[38;5;241;43m*\u001b[39;49m\u001b[43mkwargs\u001b[49m\u001b[43m)\u001b[49m\n\u001b[1;32m   2812\u001b[0m     sci(__ret)\n\u001b[1;32m   2813\u001b[0m     \u001b[38;5;28;01mreturn\u001b[39;00m __ret\n",
      "File \u001b[0;32m/opt/conda/lib/python3.8/site-packages/matplotlib/__init__.py:1412\u001b[0m, in \u001b[0;36m_preprocess_data.<locals>.inner\u001b[0;34m(ax, data, *args, **kwargs)\u001b[0m\n\u001b[1;32m   1409\u001b[0m \u001b[38;5;129m@functools\u001b[39m\u001b[38;5;241m.\u001b[39mwraps(func)\n\u001b[1;32m   1410\u001b[0m \u001b[38;5;28;01mdef\u001b[39;00m \u001b[38;5;21minner\u001b[39m(ax, \u001b[38;5;241m*\u001b[39margs, data\u001b[38;5;241m=\u001b[39m\u001b[38;5;28;01mNone\u001b[39;00m, \u001b[38;5;241m*\u001b[39m\u001b[38;5;241m*\u001b[39mkwargs):\n\u001b[1;32m   1411\u001b[0m     \u001b[38;5;28;01mif\u001b[39;00m data \u001b[38;5;129;01mis\u001b[39;00m \u001b[38;5;28;01mNone\u001b[39;00m:\n\u001b[0;32m-> 1412\u001b[0m         \u001b[38;5;28;01mreturn\u001b[39;00m \u001b[43mfunc\u001b[49m\u001b[43m(\u001b[49m\u001b[43max\u001b[49m\u001b[43m,\u001b[49m\u001b[43m \u001b[49m\u001b[38;5;241;43m*\u001b[39;49m\u001b[38;5;28;43mmap\u001b[39;49m\u001b[43m(\u001b[49m\u001b[43msanitize_sequence\u001b[49m\u001b[43m,\u001b[49m\u001b[43m \u001b[49m\u001b[43margs\u001b[49m\u001b[43m)\u001b[49m\u001b[43m,\u001b[49m\u001b[43m \u001b[49m\u001b[38;5;241;43m*\u001b[39;49m\u001b[38;5;241;43m*\u001b[39;49m\u001b[43mkwargs\u001b[49m\u001b[43m)\u001b[49m\n\u001b[1;32m   1414\u001b[0m     bound \u001b[38;5;241m=\u001b[39m new_sig\u001b[38;5;241m.\u001b[39mbind(ax, \u001b[38;5;241m*\u001b[39margs, \u001b[38;5;241m*\u001b[39m\u001b[38;5;241m*\u001b[39mkwargs)\n\u001b[1;32m   1415\u001b[0m     auto_label \u001b[38;5;241m=\u001b[39m (bound\u001b[38;5;241m.\u001b[39marguments\u001b[38;5;241m.\u001b[39mget(label_namer)\n\u001b[1;32m   1416\u001b[0m                   \u001b[38;5;129;01mor\u001b[39;00m bound\u001b[38;5;241m.\u001b[39mkwargs\u001b[38;5;241m.\u001b[39mget(label_namer))\n",
      "File \u001b[0;32m/opt/conda/lib/python3.8/site-packages/matplotlib/axes/_axes.py:4378\u001b[0m, in \u001b[0;36mAxes.scatter\u001b[0;34m(self, x, y, s, c, marker, cmap, norm, vmin, vmax, alpha, linewidths, edgecolors, plotnonfinite, **kwargs)\u001b[0m\n\u001b[1;32m   4374\u001b[0m s \u001b[38;5;241m=\u001b[39m np\u001b[38;5;241m.\u001b[39mma\u001b[38;5;241m.\u001b[39mravel(s)\n\u001b[1;32m   4375\u001b[0m \u001b[38;5;28;01mif\u001b[39;00m (\u001b[38;5;28mlen\u001b[39m(s) \u001b[38;5;129;01mnot\u001b[39;00m \u001b[38;5;129;01min\u001b[39;00m (\u001b[38;5;241m1\u001b[39m, x\u001b[38;5;241m.\u001b[39msize) \u001b[38;5;129;01mor\u001b[39;00m\n\u001b[1;32m   4376\u001b[0m         (\u001b[38;5;129;01mnot\u001b[39;00m np\u001b[38;5;241m.\u001b[39missubdtype(s\u001b[38;5;241m.\u001b[39mdtype, np\u001b[38;5;241m.\u001b[39mfloating) \u001b[38;5;129;01mand\u001b[39;00m\n\u001b[1;32m   4377\u001b[0m          \u001b[38;5;129;01mnot\u001b[39;00m np\u001b[38;5;241m.\u001b[39missubdtype(s\u001b[38;5;241m.\u001b[39mdtype, np\u001b[38;5;241m.\u001b[39minteger))):\n\u001b[0;32m-> 4378\u001b[0m     \u001b[38;5;28;01mraise\u001b[39;00m \u001b[38;5;167;01mValueError\u001b[39;00m(\n\u001b[1;32m   4379\u001b[0m         \u001b[38;5;124m\"\u001b[39m\u001b[38;5;124ms must be a scalar, \u001b[39m\u001b[38;5;124m\"\u001b[39m\n\u001b[1;32m   4380\u001b[0m         \u001b[38;5;124m\"\u001b[39m\u001b[38;5;124mor float array-like with the same size as x and y\u001b[39m\u001b[38;5;124m\"\u001b[39m)\n\u001b[1;32m   4382\u001b[0m \u001b[38;5;66;03m# get the original edgecolor the user passed before we normalize\u001b[39;00m\n\u001b[1;32m   4383\u001b[0m orig_edgecolor \u001b[38;5;241m=\u001b[39m edgecolors\n",
      "\u001b[0;31mValueError\u001b[0m: s must be a scalar, or float array-like with the same size as x and y"
     ]
    },
    {
     "data": {
      "image/png": "[encoded data removed]",
      "text/plain": [
       "<Figure size 720x360 with 1 Axes>"
      ]
     },
     "metadata": {
      "needs_background": "light"
     },
     "output_type": "display_data"
    }
   ],
   "source": [
    "print(\"Evaluating the model on training data:\")\n",
    "evaluate_and_plot(trainingDF)\n",
    "\n",
    "SQLContext(sc).clearCache()"
   ]
  },
  {
   "cell_type": "markdown",
   "metadata": {},
   "source": [
    "### Evaluate the model and plot AUC accuracy for Validation Data"
   ]
  },
  {
   "cell_type": "code",
   "execution_count": 90,
   "metadata": {},
   "outputs": [
    {
     "name": "stdout",
     "output_type": "stream",
     "text": [
      "Evaluating the model on validation data:\n",
      "22-04-06 12:00:30 [Thread-4] INFO  NNModel:730 - Batch per thread: 2; Total number of cores: 6; Global batch size: 12\n",
      "22-04-06 12:00:30 [Executor task launch worker for task 0.0 in stage 1154.0 (TID 760)] INFO  ThreadPool$:95 - Set mkl threads to 1 on thread 2969\n",
      "ROC score for                Atelectasis  is:  0.0                 \n",
      "ROC score for               Cardiomegaly  is:  0.7037037037037037  \n",
      "ROC score for                   Effusion  is:  0.5                 \n",
      "ROC score for               Infiltration  is:  0.6818181818181818  \n",
      "ROC score for                       Mass  is:  0.0                 \n",
      "ROC score for                     Nodule  is:  0.0                 \n",
      "ROC score for                  Pneumonia  is:  0.0                 \n",
      "ROC score for               Pneumothorax  is:  0.0                 \n",
      "ROC score for              Consolidation  is:  0.0                 \n",
      "ROC score for                      Edema  is:  0.0                 \n",
      "ROC score for                  Emphysema  is:  0.5                 \n",
      "ROC score for                   Fibrosis  is:  0.0                 \n",
      "ROC score for         Pleural_Thickening  is:  0.0                 \n",
      "ROC score for                     Hernia  is:  0.5                 \n",
      "Average AUC:  0.2061087061087061\n"
     ]
    },
    {
     "ename": "NameError",
     "evalue": "name 'length' is not defined",
     "output_type": "error",
     "traceback": [
      "\u001b[0;31m---------------------------------------------------------------------------\u001b[0m",
      "\u001b[0;31mNameError\u001b[0m                                 Traceback (most recent call last)",
      "Input \u001b[0;32mIn [90]\u001b[0m, in \u001b[0;36m<cell line: 2>\u001b[0;34m()\u001b[0m\n\u001b[1;32m      1\u001b[0m \u001b[38;5;28mprint\u001b[39m(\u001b[38;5;124m\"\u001b[39m\u001b[38;5;124mEvaluating the model on validation data:\u001b[39m\u001b[38;5;124m\"\u001b[39m)\n\u001b[0;32m----> 2\u001b[0m \u001b[43mevaluate_and_plot\u001b[49m\u001b[43m(\u001b[49m\u001b[43mvalidationDF\u001b[49m\u001b[43m)\u001b[49m\n",
      "Input \u001b[0;32mIn [75]\u001b[0m, in \u001b[0;36mevaluate_and_plot\u001b[0;34m(testDF)\u001b[0m\n\u001b[1;32m     14\u001b[0m     roc_auc_label[i]\u001b[38;5;241m=\u001b[39m(roc_score)\n\u001b[1;32m     15\u001b[0m \u001b[38;5;28mprint\u001b[39m(\u001b[38;5;124m\"\u001b[39m\u001b[38;5;124mAverage AUC: \u001b[39m\u001b[38;5;124m\"\u001b[39m, total_auc \u001b[38;5;241m/\u001b[39m \u001b[38;5;28mfloat\u001b[39m(label_length))\n\u001b[0;32m---> 16\u001b[0m plt \u001b[38;5;241m=\u001b[39m \u001b[43mplotingAuc\u001b[49m\u001b[43m(\u001b[49m\u001b[43mroc_auc_label\u001b[49m\u001b[43m)\u001b[49m\n\u001b[1;32m     17\u001b[0m plt\u001b[38;5;241m.\u001b[39mshow()\n",
      "Input \u001b[0;32mIn [88]\u001b[0m, in \u001b[0;36mplotingAuc\u001b[0;34m(roc_auc_label)\u001b[0m\n\u001b[1;32m     13\u001b[0m plt\u001b[38;5;241m.\u001b[39mxlabel(\u001b[38;5;124m\"\u001b[39m\u001b[38;5;124mClasses\u001b[39m\u001b[38;5;124m\"\u001b[39m)\n\u001b[1;32m     14\u001b[0m plt\u001b[38;5;241m.\u001b[39mtitle(\u001b[38;5;124m\"\u001b[39m\u001b[38;5;124mAUC for all 14 classes\u001b[39m\u001b[38;5;124m\"\u001b[39m)\n\u001b[0;32m---> 15\u001b[0m \u001b[38;5;28mprint\u001b[39m(\u001b[43mlength\u001b[49m(sizes))\n\u001b[1;32m     16\u001b[0m \u001b[38;5;28mprint\u001b[39m(x\u001b[38;5;241m.\u001b[39mshape())\n\u001b[1;32m     17\u001b[0m \u001b[38;5;28mprint\u001b[39m(y\u001b[38;5;241m.\u001b[39mshape())\n",
      "\u001b[0;31mNameError\u001b[0m: name 'length' is not defined"
     ]
    },
    {
     "data": {
      "image/png": "[encoded data removed]",
      "text/plain": [
       "<Figure size 720x360 with 1 Axes>"
      ]
     },
     "metadata": {
      "needs_background": "light"
     },
     "output_type": "display_data"
    }
   ],
   "source": [
    "print(\"Evaluating the model on validation data:\")\n",
    "evaluate_and_plot(validationDF)"
   ]
  },
  {
   "cell_type": "markdown",
   "metadata": {},
   "source": [
    "### Save the model for inference"
   ]
  },
  {
   "cell_type": "code",
   "execution_count": 97,
   "metadata": {},
   "outputs": [
    {
     "name": "stdout",
     "output_type": "stream",
     "text": [
      "Model saved at:  /opt/application/data/model/xray_model_classif\n"
     ]
    }
   ],
   "source": [
    "model_path = save_path + '/xray_model_classif'\n",
    "nnModel.model.saveModel(model_path + \".bigdl\", model_path + \".bin\", True)\n",
    "print('Model saved at: ', model_path)"
   ]
  },
  {
   "cell_type": "code",
   "execution_count": null,
   "metadata": {},
   "outputs": [],
   "source": []
  }
 ],
 "metadata": {
  "kernelspec": {
   "display_name": "Python 3 (ipykernel)",
   "language": "python",
   "name": "python3"
  },
  "language_info": {
   "codemirror_mode": {
    "name": "ipython",
    "version": 3
   },
   "file_extension": ".py",
   "mimetype": "text/x-python",
   "name": "python",
   "nbconvert_exporter": "python",
   "pygments_lexer": "ipython3",
   "version": "3.8.12"
  }
 },
 "nbformat": 4,
 "nbformat_minor": 4
}
